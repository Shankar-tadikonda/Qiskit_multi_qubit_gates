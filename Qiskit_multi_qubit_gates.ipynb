{
 "cells": [
  {
   "cell_type": "code",
   "execution_count": 1,
   "id": "54b4aaf3-84da-4d2e-a25e-a2ba94a94839",
   "metadata": {},
   "outputs": [
    {
     "name": "stdout",
     "output_type": "stream",
     "text": [
      "Defaulting to user installation because normal site-packages is not writeable\n",
      "Requirement already satisfied: qiskit in c:\\users\\hp\\appdata\\roaming\\python\\python312\\site-packages (2.2.1)\n",
      "Requirement already satisfied: qiskit-aer in c:\\users\\hp\\appdata\\roaming\\python\\python312\\site-packages (0.17.2)\n",
      "Requirement already satisfied: rustworkx>=0.15.0 in c:\\users\\hp\\appdata\\roaming\\python\\python312\\site-packages (from qiskit) (0.17.1)\n",
      "Requirement already satisfied: numpy<3,>=1.17 in c:\\users\\hp\\appdata\\roaming\\python\\python312\\site-packages (from qiskit) (2.1.3)\n",
      "Requirement already satisfied: scipy>=1.5 in c:\\users\\hp\\appdata\\roaming\\python\\python312\\site-packages (from qiskit) (1.15.1)\n",
      "Requirement already satisfied: dill>=0.3 in c:\\users\\hp\\appdata\\roaming\\python\\python312\\site-packages (from qiskit) (0.4.0)\n",
      "Requirement already satisfied: stevedore>=3.0.0 in c:\\users\\hp\\appdata\\roaming\\python\\python312\\site-packages (from qiskit) (5.5.0)\n",
      "Requirement already satisfied: typing-extensions in c:\\users\\hp\\appdata\\roaming\\python\\python312\\site-packages (from qiskit) (4.12.2)\n",
      "Requirement already satisfied: psutil>=5 in c:\\users\\hp\\appdata\\roaming\\python\\python312\\site-packages (from qiskit-aer) (6.1.1)\n",
      "Requirement already satisfied: python-dateutil>=2.8.0 in c:\\users\\hp\\appdata\\roaming\\python\\python312\\site-packages (from qiskit-aer) (2.9.0.post0)\n",
      "Requirement already satisfied: six>=1.5 in c:\\users\\hp\\appdata\\roaming\\python\\python312\\site-packages (from python-dateutil>=2.8.0->qiskit-aer) (1.17.0)\n"
     ]
    }
   ],
   "source": [
    "!pip install qiskit qiskit-aer"
   ]
  },
  {
   "cell_type": "code",
   "execution_count": 2,
   "id": "c13ea8e1-c108-4f3d-a63f-4049bd4002d8",
   "metadata": {},
   "outputs": [
    {
     "name": "stdout",
     "output_type": "stream",
     "text": [
      "CNOT control=0 target=1: {'00': 1045, '11': 1003}\n",
      "CNOT control=1 target=0: {'00': 1010, '11': 1038}\n"
     ]
    }
   ],
   "source": [
    "from qiskit import QuantumCircuit, transpile\n",
    "from qiskit_aer import AerSimulator\n",
    "\n",
    "sim = AerSimulator()\n",
    "qc1 = QuantumCircuit(2,2)\n",
    "qc1.h(0)\n",
    "qc1.cx(0,1)\n",
    "qc1.measure([0,1],[0,1])\n",
    "counts1 = sim.run(transpile(qc1, sim), shots=2048).result().get_counts()\n",
    "print(\"CNOT control=0 target=1:\", counts1)\n",
    "\n",
    "qc2 = QuantumCircuit(2,2)\n",
    "qc2.h(1)\n",
    "qc2.cx(1,0)\n",
    "qc2.measure([0,1],[0,1])\n",
    "counts2 = sim.run(transpile(qc2, sim), shots=2048).result().get_counts()\n",
    "print(\"CNOT control=1 target=0:\", counts2)\n"
   ]
  },
  {
   "cell_type": "code",
   "execution_count": 3,
   "id": "51e73802-98eb-4426-9fe0-94fc51bbedfc",
   "metadata": {},
   "outputs": [
    {
     "name": "stdout",
     "output_type": "stream",
     "text": [
      "With SWAP: {'11': 1042, '00': 1006}\n",
      "Without SWAP: {'00': 1056, '11': 992}\n"
     ]
    }
   ],
   "source": [
    "qc3 = QuantumCircuit(2,2)\n",
    "qc3.h(0)\n",
    "qc3.cx(0,1)\n",
    "qc3.swap(0,1)\n",
    "qc3.measure([0,1],[0,1])\n",
    "counts_with_swap = sim.run(transpile(qc3, sim), shots=2048).result().get_counts()\n",
    "print(\"With SWAP:\", counts_with_swap)\n",
    "\n",
    "qc4 = QuantumCircuit(2,2)\n",
    "qc4.h(0)\n",
    "qc4.cx(0,1)\n",
    "qc4.measure([0,1],[0,1])\n",
    "counts_no_swap = sim.run(transpile(qc4, sim), shots=2048).result().get_counts()\n",
    "print(\"Without SWAP:\", counts_no_swap)\n"
   ]
  },
  {
   "cell_type": "code",
   "execution_count": 4,
   "id": "51b02134-533c-4efd-9f29-c2cb3727bf4f",
   "metadata": {},
   "outputs": [
    {
     "name": "stdout",
     "output_type": "stream",
     "text": [
      "With extra H on qubit 1: {'10': 494, '00': 541, '01': 504, '11': 509}\n",
      "Original circuit: {'00': 1061, '11': 987}\n"
     ]
    }
   ],
   "source": [
    "qc5 = QuantumCircuit(2,2)\n",
    "qc5.h(0)\n",
    "qc5.h(1)\n",
    "qc5.cx(0,1)\n",
    "qc5.measure([0,1],[0,1])\n",
    "counts_with_extra_h = sim.run(transpile(qc5, sim), shots=2048).result().get_counts()\n",
    "print(\"With extra H on qubit 1:\", counts_with_extra_h)\n",
    "\n",
    "qc6 = QuantumCircuit(2,2)\n",
    "qc6.h(0)\n",
    "qc6.cx(0,1)\n",
    "qc6.measure([0,1],[0,1])\n",
    "counts_original = sim.run(transpile(qc6, sim), shots=2048).result().get_counts()\n",
    "print(\"Original circuit:\", counts_original)\n"
   ]
  },
  {
   "cell_type": "code",
   "execution_count": null,
   "id": "d6ba3bc9-c891-44b4-9ec9-48a3434477c4",
   "metadata": {},
   "outputs": [],
   "source": []
  }
 ],
 "metadata": {
  "kernelspec": {
   "display_name": "Python 3 (ipykernel)",
   "language": "python",
   "name": "python3"
  },
  "language_info": {
   "codemirror_mode": {
    "name": "ipython",
    "version": 3
   },
   "file_extension": ".py",
   "mimetype": "text/x-python",
   "name": "python",
   "nbconvert_exporter": "python",
   "pygments_lexer": "ipython3",
   "version": "3.12.6"
  }
 },
 "nbformat": 4,
 "nbformat_minor": 5
}
